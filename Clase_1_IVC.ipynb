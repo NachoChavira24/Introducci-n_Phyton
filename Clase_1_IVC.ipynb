{
  "nbformat": 4,
  "nbformat_minor": 0,
  "metadata": {
    "colab": {
      "provenance": []
    },
    "kernelspec": {
      "name": "python3",
      "display_name": "Python 3"
    },
    "language_info": {
      "name": "python"
    }
  },
  "cells": [
    {
      "cell_type": "markdown",
      "source": [
        "# Inroducción a Python\n",
        "\n",
        " - Hoy veremos algunas funciones (built-in)\n",
        " - Carga de datos"
      ],
      "metadata": {
        "id": "XT1EuZS-XwkF"
      }
    },
    {
      "cell_type": "code",
      "execution_count": null,
      "metadata": {
        "id": "IcwvLH43WI3F",
        "colab": {
          "base_uri": "https://localhost:8080/"
        },
        "outputId": "f5c699cd-e13e-44bf-bc14-0b3f62d77550"
      },
      "outputs": [
        {
          "output_type": "stream",
          "name": "stdout",
          "text": [
            "hello world\n"
          ]
        }
      ],
      "source": [
        "print('hello world') # print es la función para poner algun texto"
      ]
    },
    {
      "cell_type": "code",
      "source": [
        "type('hola') # responde a la pregunta, tipo de objeto = \"'hola'\""
      ],
      "metadata": {
        "colab": {
          "base_uri": "https://localhost:8080/"
        },
        "id": "k0PnPsUJcbpw",
        "outputId": "73de4c04-19b7-4dbd-b3af-d40d3232fa30"
      },
      "execution_count": null,
      "outputs": [
        {
          "output_type": "execute_result",
          "data": {
            "text/plain": [
              "str"
            ]
          },
          "metadata": {},
          "execution_count": 6
        }
      ]
    },
    {
      "cell_type": "markdown",
      "source": [
        "Los objetos más importantes que usaremos son:\n",
        "- int --> enteros\n",
        "- float --> flotantes (decimales)\n",
        "- str --> cadenas de caracteres \"string\"\n",
        "- list -->\n",
        "- diccionarios (Nos ayudan a crear bases de datos)\n",
        "- arrange --> No son built-in  \n",
        "\n"
      ],
      "metadata": {
        "id": "QVmP0tT7c4TU"
      }
    },
    {
      "cell_type": "markdown",
      "source": [
        "## Python sirve como una calculadora básica\n",
        "\n",
        "- $+$ --> suma\n",
        "- $-$ --> resta\n",
        "- $*$ --> multiplicación\n",
        "- $**$ --> potencia\n",
        "- $/$ --> división\n",
        "- $//$ --> división al piso\n",
        "- '%' --> residuo de división\n",
        "\n"
      ],
      "metadata": {
        "id": "VXjfXLtvfjJG"
      }
    },
    {
      "cell_type": "code",
      "source": [
        "t = (2+5, 2-5, 2*5, 2**5, 2/5, 2//5, 2%5)  # para hacer una tupla\n",
        "t\n",
        "print(t) #imprimir la tuplam en este caso la \"t\""
      ],
      "metadata": {
        "colab": {
          "base_uri": "https://localhost:8080/"
        },
        "id": "KzQ6BtZtfaqd",
        "outputId": "586a8988-7752-4228-b025-154edf999104"
      },
      "execution_count": null,
      "outputs": [
        {
          "output_type": "stream",
          "name": "stdout",
          "text": [
            "(7, -3, 10, 32, 0.4, 0, 2)\n"
          ]
        },
        {
          "output_type": "execute_result",
          "data": {
            "text/plain": [
              "tuple"
            ]
          },
          "metadata": {},
          "execution_count": 1
        }
      ]
    },
    {
      "cell_type": "code",
      "source": [
        "x=2 #valor de variable x\n",
        "y=5 #valor de variable y\n",
        "\n",
        "x\n",
        "print(x,y) #imprimir valores de x y y\n",
        "print(y) # imprimir valores de y\n",
        "x  #al poner la variable x antes o despues de print no se imprime el valor x\n",
        "\n",
        "t = (x+y, x-y, x*y, x**y, x/y, x//y, x%y)\n",
        "t"
      ],
      "metadata": {
        "colab": {
          "base_uri": "https://localhost:8080/"
        },
        "id": "B0BuNX2Kh0BM",
        "outputId": "365e3aab-cbca-4a59-fb0c-1d29c91d1eb1"
      },
      "execution_count": null,
      "outputs": [
        {
          "output_type": "stream",
          "name": "stdout",
          "text": [
            "2 5\n",
            "5\n",
            "2\n"
          ]
        },
        {
          "output_type": "execute_result",
          "data": {
            "text/plain": [
              "(7, -3, 10, 32, 0.4, 0, 2)"
            ]
          },
          "metadata": {},
          "execution_count": 5
        }
      ]
    },
    {
      "cell_type": "code",
      "source": [
        "type(x) # nos da el tipo de la variable que llamanos x"
      ],
      "metadata": {
        "colab": {
          "base_uri": "https://localhost:8080/"
        },
        "id": "bO6wqv-uie3P",
        "outputId": "7d571715-5283-46a7-d228-3274bccad56a"
      },
      "execution_count": null,
      "outputs": [
        {
          "output_type": "execute_result",
          "data": {
            "text/plain": [
              "int"
            ]
          },
          "metadata": {},
          "execution_count": 25
        }
      ]
    },
    {
      "cell_type": "code",
      "source": [
        "type(t) # nos da el tipo de la variable llamamos t"
      ],
      "metadata": {
        "colab": {
          "base_uri": "https://localhost:8080/"
        },
        "id": "DVCYijKxin3W",
        "outputId": "909c24b7-4e98-4be4-a828-75ee1b798a13"
      },
      "execution_count": null,
      "outputs": [
        {
          "output_type": "execute_result",
          "data": {
            "text/plain": [
              "tuple"
            ]
          },
          "metadata": {},
          "execution_count": 26
        }
      ]
    },
    {
      "cell_type": "code",
      "source": [
        "t[0] # da el er valor de la tupla"
      ],
      "metadata": {
        "colab": {
          "base_uri": "https://localhost:8080/"
        },
        "id": "Yq7TjLSviro8",
        "outputId": "10f909ed-c159-4ef8-8411-300f2ae9ffa7"
      },
      "execution_count": null,
      "outputs": [
        {
          "output_type": "execute_result",
          "data": {
            "text/plain": [
              "7"
            ]
          },
          "metadata": {},
          "execution_count": 28
        }
      ]
    },
    {
      "cell_type": "markdown",
      "source": [
        "Elección de elemntos dentro de una tupla\n",
        "\n",
        "**Python empieza a contar en el cero**\n",
        "\n",
        "y hay que tomar lo elementos de acuerdo a su índece.\n",
        "\n"
      ],
      "metadata": {
        "id": "sDkwqDi-i9vd"
      }
    },
    {
      "cell_type": "code",
      "source": [
        "t[5] # da el valor 5, es el 6o elemento de la tupla"
      ],
      "metadata": {
        "colab": {
          "base_uri": "https://localhost:8080/"
        },
        "id": "PLyeyY1OjQop",
        "outputId": "ef85916d-5c11-4ff6-d8b5-5b13ea7aa76f"
      },
      "execution_count": null,
      "outputs": [
        {
          "output_type": "execute_result",
          "data": {
            "text/plain": [
              "0"
            ]
          },
          "metadata": {},
          "execution_count": 6
        }
      ]
    },
    {
      "cell_type": "code",
      "source": [
        "t[7] # marca Error, no existe el elemento no. 8"
      ],
      "metadata": {
        "colab": {
          "base_uri": "https://localhost:8080/",
          "height": 144
        },
        "id": "M2m_EEbZjngr",
        "outputId": "54ba4c5f-86fa-4c09-fb42-239912bc6186"
      },
      "execution_count": null,
      "outputs": [
        {
          "output_type": "error",
          "ename": "IndexError",
          "evalue": "tuple index out of range",
          "traceback": [
            "\u001b[0;31m---------------------------------------------------------------------------\u001b[0m",
            "\u001b[0;31mIndexError\u001b[0m                                Traceback (most recent call last)",
            "\u001b[0;32m/tmp/ipython-input-7-1696184510.py\u001b[0m in \u001b[0;36m<cell line: 0>\u001b[0;34m()\u001b[0m\n\u001b[0;32m----> 1\u001b[0;31m \u001b[0mt\u001b[0m\u001b[0;34m[\u001b[0m\u001b[0;36m7\u001b[0m\u001b[0;34m]\u001b[0m \u001b[0;31m# marca el error de que no existe el elemento 8\u001b[0m\u001b[0;34m\u001b[0m\u001b[0;34m\u001b[0m\u001b[0m\n\u001b[0m",
            "\u001b[0;31mIndexError\u001b[0m: tuple index out of range"
          ]
        }
      ]
    },
    {
      "cell_type": "code",
      "source": [
        "t[4], type(t[4]) # Da el valor del 5to elemento su tipo"
      ],
      "metadata": {
        "colab": {
          "base_uri": "https://localhost:8080/"
        },
        "id": "isZ2M1Wej4z0",
        "outputId": "df6f6b8f-dd52-4e76-b42f-4893b97dea59"
      },
      "execution_count": null,
      "outputs": [
        {
          "output_type": "execute_result",
          "data": {
            "text/plain": [
              "(0.4, float)"
            ]
          },
          "metadata": {},
          "execution_count": 33
        }
      ]
    },
    {
      "cell_type": "code",
      "source": [
        "len(t) # Da el tamaño de la tupla t"
      ],
      "metadata": {
        "colab": {
          "base_uri": "https://localhost:8080/"
        },
        "id": "TjTxCuljkXgD",
        "outputId": "4402f60d-76aa-4f8f-cf21-7cf07150a3c9"
      },
      "execution_count": null,
      "outputs": [
        {
          "output_type": "execute_result",
          "data": {
            "text/plain": [
              "7"
            ]
          },
          "metadata": {},
          "execution_count": 40
        }
      ]
    },
    {
      "cell_type": "code",
      "source": [
        "t.count(.4) # Da el No. de veces que se encuentra el valor 1 en la tupla"
      ],
      "metadata": {
        "colab": {
          "base_uri": "https://localhost:8080/"
        },
        "id": "NWrgHG11lbjN",
        "outputId": "7a487ec7-c33c-41dd-d6d4-4a5bfd2b00eb"
      },
      "execution_count": null,
      "outputs": [
        {
          "output_type": "execute_result",
          "data": {
            "text/plain": [
              "1"
            ]
          },
          "metadata": {},
          "execution_count": 12
        }
      ]
    },
    {
      "cell_type": "markdown",
      "source": [
        "### Listas\n",
        "\n",
        "Para crear una lista:"
      ],
      "metadata": {
        "id": "TlIxE_sQlust"
      }
    },
    {
      "cell_type": "code",
      "source": [
        "L1 = list(t) # transforma una tupla en lista\n",
        "\n",
        "L2 = [7, -3, 10, 32, 0.4, 0, 2] # se hace una lista\n",
        "\n",
        "print(L1, L2) # imprime las listas L1 y L2\n",
        "\n"
      ],
      "metadata": {
        "colab": {
          "base_uri": "https://localhost:8080/"
        },
        "id": "zp1KN3Z1l0mF",
        "outputId": "7e82c8ff-4ce9-404b-8b5e-1cc85caa4a9b"
      },
      "execution_count": null,
      "outputs": [
        {
          "output_type": "stream",
          "name": "stdout",
          "text": [
            "[7, -3, 10, 32, 0.4, 0, 2] [7, -3, 10, 32, 0.4, 0, 2]\n"
          ]
        }
      ]
    },
    {
      "cell_type": "code",
      "source": [
        "L1[2:5] # slices (piezas) de listas"
      ],
      "metadata": {
        "colab": {
          "base_uri": "https://localhost:8080/"
        },
        "id": "mzUuSUuXoPji",
        "outputId": "59d2ac16-6983-4f8e-cada-d20271e75002"
      },
      "execution_count": null,
      "outputs": [
        {
          "output_type": "execute_result",
          "data": {
            "text/plain": [
              "[10, 32, 0.4]"
            ]
          },
          "metadata": {},
          "execution_count": 52
        }
      ]
    },
    {
      "cell_type": "markdown",
      "source": [
        "#### La función range()\n",
        "\n",
        "`Es un generador de índices.`\n",
        "\n",
        "\n"
      ],
      "metadata": {
        "id": "wWrEyJT2o6pa"
      }
    },
    {
      "cell_type": "code",
      "source": [
        "range(1,11) # Da un indice"
      ],
      "metadata": {
        "colab": {
          "base_uri": "https://localhost:8080/"
        },
        "id": "Lc86QVXvpcAT",
        "outputId": "1ed927b0-0fbc-4c74-fe85-0b81a0e173cd"
      },
      "execution_count": null,
      "outputs": [
        {
          "output_type": "execute_result",
          "data": {
            "text/plain": [
              "range(1, 11)"
            ]
          },
          "metadata": {},
          "execution_count": 13
        }
      ]
    },
    {
      "cell_type": "markdown",
      "source": [
        "Para vsualizar los elementos de un generador se encesitan ciclos\n",
        "\n",
        "\"for\"\n",
        "\n"
      ],
      "metadata": {
        "id": "Jl3JU7t3pt2n"
      }
    },
    {
      "cell_type": "code",
      "source": [
        "for i in range(3,10): # Sirva para imprimir los valores de i en el rango del 3 al 9\n",
        "  print(i)\n"
      ],
      "metadata": {
        "colab": {
          "base_uri": "https://localhost:8080/"
        },
        "id": "bGKZvtsKpzbs",
        "outputId": "6b0e31f8-8221-47ea-c5c8-d1fbdbff31bd"
      },
      "execution_count": null,
      "outputs": [
        {
          "output_type": "stream",
          "name": "stdout",
          "text": [
            "3\n",
            "4\n",
            "5\n",
            "6\n",
            "7\n",
            "8\n",
            "9\n"
          ]
        }
      ]
    },
    {
      "cell_type": "code",
      "source": [
        "L3 = [ i for i in range(11)] # crea una lista (L3) del ciclo for para imprimir los valores de i en el rango del 0 al 10\n",
        "L3"
      ],
      "metadata": {
        "colab": {
          "base_uri": "https://localhost:8080/"
        },
        "id": "ozyWdq8Nrun9",
        "outputId": "5ab4fa57-e04f-4751-f9a4-4d7b113bf36a"
      },
      "execution_count": null,
      "outputs": [
        {
          "output_type": "execute_result",
          "data": {
            "text/plain": [
              "[0, 1, 2, 3, 4, 5, 6, 7, 8, 9, 10]"
            ]
          },
          "metadata": {},
          "execution_count": 56
        }
      ]
    },
    {
      "cell_type": "markdown",
      "source": [
        "## Condicionales\n",
        "\n",
        "- if, else, else if (elif)\n",
        "- while\n",
        "\n"
      ],
      "metadata": {
        "id": "JReNm2Lyr29w"
      }
    },
    {
      "cell_type": "code",
      "source": [],
      "metadata": {
        "id": "YJBxZ52Xr_ov"
      },
      "execution_count": null,
      "outputs": []
    }
  ]
}